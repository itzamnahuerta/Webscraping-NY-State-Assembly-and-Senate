{
 "cells": [
  {
   "cell_type": "markdown",
   "id": "b7317be1",
   "metadata": {},
   "source": [
    "# NY State Assembly and Senate"
   ]
  },
  {
   "cell_type": "markdown",
   "id": "751b0362",
   "metadata": {},
   "source": [
    "The goal of this project is to produce two csv files of member names and districts in both the NY Assembly and Senate since they aren't pubically available as spreadsheets. This information is being web scraped using beautiful soup library. These members are in office as of Feb 2023. It may be used given that the structure of the government websites doesn't change for the future. "
   ]
  },
  {
   "cell_type": "markdown",
   "id": "d20f3e86",
   "metadata": {},
   "source": [
    "### NY State Assembly Website"
   ]
  },
  {
   "cell_type": "markdown",
   "id": "c1f666a3",
   "metadata": {},
   "source": [
    "<img src=\"https://i.postimg.cc/4NDv5Kyg/Screen-Shot-2023-02-23-at-4-08-43-PM.png\" width=\"500\">"
   ]
  },
  {
   "cell_type": "code",
   "execution_count": 5,
   "id": "3042d5af",
   "metadata": {},
   "outputs": [],
   "source": [
    "# importing libraries\n",
    "import pandas as pd\n",
    "from bs4 import BeautifulSoup\n",
    "import requests\n",
    "import re"
   ]
  },
  {
   "cell_type": "code",
   "execution_count": 6,
   "id": "ac7b5d3e",
   "metadata": {},
   "outputs": [],
   "source": [
    "assem_url = \"https://nyassembly.gov/mem/\"\n",
    "assem_response = requests.get(assem_url) # 200 - OK - Requested action was successfully executed"
   ]
  },
  {
   "cell_type": "code",
   "execution_count": 8,
   "id": "d60a6d10",
   "metadata": {},
   "outputs": [],
   "source": [
    "# html content\n",
    "assem_response_text = assem_response.text\n",
    "# assem_response_text"
   ]
  },
  {
   "cell_type": "code",
   "execution_count": 10,
   "id": "2a338401",
   "metadata": {},
   "outputs": [],
   "source": [
    "assem_soup = BeautifulSoup(assem_response_text, 'lxml')"
   ]
  },
  {
   "cell_type": "code",
   "execution_count": 11,
   "id": "6c0a2590",
   "metadata": {
    "scrolled": true
   },
   "outputs": [
    {
     "data": {
      "text/plain": [
       "<title>Assembly Member Directory | New York State Assembly </title>"
      ]
     },
     "execution_count": 11,
     "metadata": {},
     "output_type": "execute_result"
    }
   ],
   "source": [
    "# title of the url page\n",
    "assem_soup.title"
   ]
  },
  {
   "cell_type": "code",
   "execution_count": 12,
   "id": "35dab89f",
   "metadata": {},
   "outputs": [],
   "source": [
    "# finding html tags with member name and district using google chrome inspect tool\n",
    "# storing each case into a list\n",
    "\n",
    "assemblyMembers = [ member.text.strip().replace('\\t',',')   for member in assem_soup.find_all('h3', {\"class\": \"mem-name\"})]\n"
   ]
  },
  {
   "cell_type": "code",
   "execution_count": 32,
   "id": "7f756001",
   "metadata": {
    "scrolled": true
   },
   "outputs": [
    {
     "data": {
      "text/plain": [
       "['George Alvarez,,,,,,,,,,,,,District 78',\n",
       " 'Khaleel M. Anderson,,,,,,,,,,,,,District 31',\n",
       " 'Joe Angelino,,,,,,,,,,,,,District 121']"
      ]
     },
     "execution_count": 32,
     "metadata": {},
     "output_type": "execute_result"
    }
   ],
   "source": [
    "# example of the first instance inside the list\n",
    "assemblyMembers[0:3] # first three elements"
   ]
  },
  {
   "cell_type": "code",
   "execution_count": 14,
   "id": "4467ffc1",
   "metadata": {},
   "outputs": [],
   "source": [
    "# creating two separate lists to store members name and district\n",
    "assemblyMemName = []\n",
    "assemblyDistrict  = []\n",
    "\n",
    "# for loop:\n",
    "# separating member name and district into two list elements\n",
    "# using split method for each instance by the multiple commas\n",
    "# grabbing the first element and the last \n",
    "\n",
    "for member in assemblyMembers:\n",
    "    record = member.split(',') \n",
    "    # first instance of record \n",
    "    # ['George Alvarez', '', '', '', '', '', '', '', '', '', '', '', '', 'District 78']\n",
    "    assemblyMemName.append(record[0]) \n",
    "    assemblyDistrict.append(record[-1])"
   ]
  },
  {
   "cell_type": "code",
   "execution_count": 18,
   "id": "e94467a0",
   "metadata": {
    "scrolled": true
   },
   "outputs": [
    {
     "data": {
      "text/plain": [
       "['George Alvarez', 'Khaleel M. Anderson', 'Joe Angelino']"
      ]
     },
     "execution_count": 18,
     "metadata": {},
     "output_type": "execute_result"
    }
   ],
   "source": [
    "# populated asssembly member names\n",
    "assemblyMemName[0:3] # first three elements"
   ]
  },
  {
   "cell_type": "code",
   "execution_count": 19,
   "id": "d2c700e9",
   "metadata": {
    "scrolled": true
   },
   "outputs": [
    {
     "data": {
      "text/plain": [
       "['District 78', 'District 31', 'District 121']"
      ]
     },
     "execution_count": 19,
     "metadata": {},
     "output_type": "execute_result"
    }
   ],
   "source": [
    "# populated assembly districts\n",
    "assemblyDistrict[0:3] # first three elements"
   ]
  },
  {
   "cell_type": "code",
   "execution_count": 25,
   "id": "4cf2e849",
   "metadata": {},
   "outputs": [
    {
     "data": {
      "text/html": [
       "<div>\n",
       "<style scoped>\n",
       "    .dataframe tbody tr th:only-of-type {\n",
       "        vertical-align: middle;\n",
       "    }\n",
       "\n",
       "    .dataframe tbody tr th {\n",
       "        vertical-align: top;\n",
       "    }\n",
       "\n",
       "    .dataframe thead th {\n",
       "        text-align: right;\n",
       "    }\n",
       "</style>\n",
       "<table border=\"1\" class=\"dataframe\">\n",
       "  <thead>\n",
       "    <tr style=\"text-align: right;\">\n",
       "      <th></th>\n",
       "      <th>memberName</th>\n",
       "      <th>assemblyDistrict</th>\n",
       "    </tr>\n",
       "  </thead>\n",
       "  <tbody>\n",
       "    <tr>\n",
       "      <th>0</th>\n",
       "      <td>George Alvarez</td>\n",
       "      <td>District 78</td>\n",
       "    </tr>\n",
       "    <tr>\n",
       "      <th>1</th>\n",
       "      <td>Khaleel M. Anderson</td>\n",
       "      <td>District 31</td>\n",
       "    </tr>\n",
       "  </tbody>\n",
       "</table>\n",
       "</div>"
      ],
      "text/plain": [
       "            memberName assemblyDistrict\n",
       "0       George Alvarez      District 78\n",
       "1  Khaleel M. Anderson      District 31"
      ]
     },
     "execution_count": 25,
     "metadata": {},
     "output_type": "execute_result"
    }
   ],
   "source": [
    "assem_df = pd.DataFrame(zip(assemblyMemName, assemblyDistrict), columns=['memberName', 'assemblyDistrict'])\n",
    "assem_df.head(2)"
   ]
  },
  {
   "cell_type": "code",
   "execution_count": 27,
   "id": "07bc1052",
   "metadata": {},
   "outputs": [
    {
     "name": "stderr",
     "output_type": "stream",
     "text": [
      "/var/folders/3_/8xdbx4ks2kj55t5nl3zg5ff00000gn/T/ipykernel_70517/636451843.py:1: FutureWarning: In a future version of pandas all arguments of StringMethods.split except for the argument 'pat' will be keyword-only.\n",
      "  assem_df[['r', 'district']] = assem_df['assemblyDistrict'].str.split(' ', 1, expand=True)\n"
     ]
    }
   ],
   "source": [
    "assem_df[['r', 'district']] = assem_df['assemblyDistrict'].str.split(' ', 1, expand=True)\n"
   ]
  },
  {
   "cell_type": "code",
   "execution_count": 28,
   "id": "0be087d5",
   "metadata": {},
   "outputs": [
    {
     "data": {
      "text/html": [
       "<div>\n",
       "<style scoped>\n",
       "    .dataframe tbody tr th:only-of-type {\n",
       "        vertical-align: middle;\n",
       "    }\n",
       "\n",
       "    .dataframe tbody tr th {\n",
       "        vertical-align: top;\n",
       "    }\n",
       "\n",
       "    .dataframe thead th {\n",
       "        text-align: right;\n",
       "    }\n",
       "</style>\n",
       "<table border=\"1\" class=\"dataframe\">\n",
       "  <thead>\n",
       "    <tr style=\"text-align: right;\">\n",
       "      <th></th>\n",
       "      <th>memberName</th>\n",
       "      <th>assemblyDistrict</th>\n",
       "      <th>r</th>\n",
       "      <th>district</th>\n",
       "    </tr>\n",
       "  </thead>\n",
       "  <tbody>\n",
       "    <tr>\n",
       "      <th>0</th>\n",
       "      <td>George Alvarez</td>\n",
       "      <td>District 78</td>\n",
       "      <td>District</td>\n",
       "      <td>78</td>\n",
       "    </tr>\n",
       "    <tr>\n",
       "      <th>1</th>\n",
       "      <td>Khaleel M. Anderson</td>\n",
       "      <td>District 31</td>\n",
       "      <td>District</td>\n",
       "      <td>31</td>\n",
       "    </tr>\n",
       "  </tbody>\n",
       "</table>\n",
       "</div>"
      ],
      "text/plain": [
       "            memberName assemblyDistrict         r district\n",
       "0       George Alvarez      District 78  District       78\n",
       "1  Khaleel M. Anderson      District 31  District       31"
      ]
     },
     "execution_count": 28,
     "metadata": {},
     "output_type": "execute_result"
    }
   ],
   "source": [
    "assem_df.head(2)"
   ]
  },
  {
   "cell_type": "code",
   "execution_count": 29,
   "id": "44c71778",
   "metadata": {},
   "outputs": [],
   "source": [
    "assem_df.drop('r',axis=1,inplace=True)"
   ]
  },
  {
   "cell_type": "code",
   "execution_count": 30,
   "id": "81854b6a",
   "metadata": {},
   "outputs": [
    {
     "data": {
      "text/html": [
       "<div>\n",
       "<style scoped>\n",
       "    .dataframe tbody tr th:only-of-type {\n",
       "        vertical-align: middle;\n",
       "    }\n",
       "\n",
       "    .dataframe tbody tr th {\n",
       "        vertical-align: top;\n",
       "    }\n",
       "\n",
       "    .dataframe thead th {\n",
       "        text-align: right;\n",
       "    }\n",
       "</style>\n",
       "<table border=\"1\" class=\"dataframe\">\n",
       "  <thead>\n",
       "    <tr style=\"text-align: right;\">\n",
       "      <th></th>\n",
       "      <th>memberName</th>\n",
       "      <th>assemblyDistrict</th>\n",
       "      <th>district</th>\n",
       "    </tr>\n",
       "  </thead>\n",
       "  <tbody>\n",
       "    <tr>\n",
       "      <th>0</th>\n",
       "      <td>George Alvarez</td>\n",
       "      <td>District 78</td>\n",
       "      <td>78</td>\n",
       "    </tr>\n",
       "    <tr>\n",
       "      <th>1</th>\n",
       "      <td>Khaleel M. Anderson</td>\n",
       "      <td>District 31</td>\n",
       "      <td>31</td>\n",
       "    </tr>\n",
       "    <tr>\n",
       "      <th>2</th>\n",
       "      <td>Joe Angelino</td>\n",
       "      <td>District 121</td>\n",
       "      <td>121</td>\n",
       "    </tr>\n",
       "    <tr>\n",
       "      <th>3</th>\n",
       "      <td>Juan Ardila</td>\n",
       "      <td>District 37</td>\n",
       "      <td>37</td>\n",
       "    </tr>\n",
       "    <tr>\n",
       "      <th>4</th>\n",
       "      <td>Jeffrion L. Aubry</td>\n",
       "      <td>District 35</td>\n",
       "      <td>35</td>\n",
       "    </tr>\n",
       "  </tbody>\n",
       "</table>\n",
       "</div>"
      ],
      "text/plain": [
       "            memberName assemblyDistrict district\n",
       "0       George Alvarez      District 78       78\n",
       "1  Khaleel M. Anderson      District 31       31\n",
       "2         Joe Angelino     District 121      121\n",
       "3          Juan Ardila      District 37       37\n",
       "4    Jeffrion L. Aubry      District 35       35"
      ]
     },
     "execution_count": 30,
     "metadata": {},
     "output_type": "execute_result"
    }
   ],
   "source": [
    "assem_df.head()"
   ]
  },
  {
   "cell_type": "code",
   "execution_count": 31,
   "id": "1bc1b069",
   "metadata": {},
   "outputs": [],
   "source": [
    "# saving to a csv file\n",
    "# assem_df.to_csv('ny_Assembly_District_Members.csv',index=False)"
   ]
  },
  {
   "cell_type": "markdown",
   "id": "2a3ede86",
   "metadata": {},
   "source": [
    "###  NY Senate Members"
   ]
  },
  {
   "cell_type": "markdown",
   "id": "03a95ced",
   "metadata": {},
   "source": [
    "<img src=\"https://i.postimg.cc/cJnf8d0J/Screen-Shot-2023-02-23-at-4-22-07-PM.png\" width=\"500\">"
   ]
  },
  {
   "cell_type": "code",
   "execution_count": null,
   "id": "0f0efefa",
   "metadata": {},
   "outputs": [],
   "source": [
    "senate_url = 'https://www.nysenate.gov/senators-committees'\n",
    "senate_response = requests.get(senate_url) # 200 - OK - Requested action was successfully executed"
   ]
  },
  {
   "cell_type": "code",
   "execution_count": null,
   "id": "1702834a",
   "metadata": {},
   "outputs": [],
   "source": [
    "senate_response"
   ]
  },
  {
   "cell_type": "code",
   "execution_count": null,
   "id": "dd461d4a",
   "metadata": {},
   "outputs": [],
   "source": [
    "# html content\n",
    "senate_response_text = senate_response.text"
   ]
  },
  {
   "cell_type": "code",
   "execution_count": null,
   "id": "0d4bf672",
   "metadata": {},
   "outputs": [],
   "source": [
    "senate_soup = BeautifulSoup(senate_response_text, 'lxml')"
   ]
  },
  {
   "cell_type": "code",
   "execution_count": null,
   "id": "7c411628",
   "metadata": {},
   "outputs": [],
   "source": [
    "senate_soup.title"
   ]
  },
  {
   "cell_type": "code",
   "execution_count": null,
   "id": "a6e48bd9",
   "metadata": {},
   "outputs": [],
   "source": [
    "# senate member names from url page\n",
    "senateMembersName =  [ member.text for member in senate_soup.find_all('h4', {\"class\": \"nys-senator--name\"})]\n"
   ]
  },
  {
   "cell_type": "code",
   "execution_count": null,
   "id": "9b0ef928",
   "metadata": {
    "scrolled": true
   },
   "outputs": [],
   "source": [
    "# senate member district from url page\n",
    "senateMembersDistrict =  [ district.text.strip().replace('\\t','').split('\\n')[-1] for district in senate_soup.find_all('span', {\"class\": \"nys-senator--district\"})]"
   ]
  },
  {
   "cell_type": "code",
   "execution_count": null,
   "id": "7f6c613f",
   "metadata": {},
   "outputs": [],
   "source": [
    "sdf = pd.DataFrame(zip(senateMembersName, senateMembersDistrict), columns=['memberName', 'senateDistrict'])\n",
    "sdf.head()"
   ]
  },
  {
   "cell_type": "code",
   "execution_count": null,
   "id": "e2ad43df",
   "metadata": {},
   "outputs": [],
   "source": [
    "sdf[['district', 'r']] = sdf['senateDistrict'].str.split(' ', 1, expand=True)\n"
   ]
  },
  {
   "cell_type": "code",
   "execution_count": null,
   "id": "57021583",
   "metadata": {},
   "outputs": [],
   "source": [
    "sdf.drop('r',axis=1,inplace=True)"
   ]
  },
  {
   "cell_type": "code",
   "execution_count": null,
   "id": "3284dcff",
   "metadata": {},
   "outputs": [],
   "source": [
    "districtNumber = []\n",
    "for i in sdf['district']:\n",
    "    without_letters = re.sub(r'[a-z]', '', i.lower())\n",
    "    districtNumber.append(without_letters)"
   ]
  },
  {
   "cell_type": "code",
   "execution_count": null,
   "id": "7753299b",
   "metadata": {},
   "outputs": [],
   "source": [
    "sdf['district'] =  districtNumber"
   ]
  },
  {
   "cell_type": "code",
   "execution_count": null,
   "id": "cfcb1e0a",
   "metadata": {
    "scrolled": true
   },
   "outputs": [],
   "source": [
    "sdf"
   ]
  },
  {
   "cell_type": "code",
   "execution_count": null,
   "id": "a9a72429",
   "metadata": {},
   "outputs": [],
   "source": [
    "# saving to a csv file\n",
    "# sdf.to_csv('ny_Senate_Members.csv',index=False)"
   ]
  },
  {
   "cell_type": "code",
   "execution_count": null,
   "id": "48551ca4",
   "metadata": {},
   "outputs": [],
   "source": []
  }
 ],
 "metadata": {
  "kernelspec": {
   "display_name": "Python 3 (ipykernel)",
   "language": "python",
   "name": "python3"
  },
  "language_info": {
   "codemirror_mode": {
    "name": "ipython",
    "version": 3
   },
   "file_extension": ".py",
   "mimetype": "text/x-python",
   "name": "python",
   "nbconvert_exporter": "python",
   "pygments_lexer": "ipython3",
   "version": "3.10.8"
  }
 },
 "nbformat": 4,
 "nbformat_minor": 5
}
